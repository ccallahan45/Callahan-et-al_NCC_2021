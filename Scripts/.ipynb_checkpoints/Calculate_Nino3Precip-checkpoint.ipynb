{
 "cells": [
  {
   "cell_type": "markdown",
   "metadata": {},
   "source": [
    "# Monthly Nino3 precipitation in the LongRunMIP\n",
    "#### Christopher Callahan\n",
    "#### Christopher.W.Callahan.GR@dartmouth.edu"
   ]
  },
  {
   "cell_type": "markdown",
   "metadata": {},
   "source": [
    "Nino3-average precipitation in the LongRunMIP."
   ]
  },
  {
   "cell_type": "markdown",
   "metadata": {},
   "source": [
    "#### Mechanics\n",
    "Import dependencies"
   ]
  },
  {
   "cell_type": "code",
   "execution_count": 2,
   "metadata": {},
   "outputs": [],
   "source": [
    "import xarray as xr\n",
    "import numpy as np\n",
    "import sys\n",
    "import os\n",
    "import datetime\n",
    "import pandas as pd\n",
    "import matplotlib.pyplot as plt\n",
    "from mpl_toolkits.basemap import Basemap, cm\n",
    "from matplotlib import rcParams\n",
    "import matplotlib.gridspec as gridspec\n",
    "import seaborn as sns\n",
    "from scipy.io import loadmat\n",
    "from matplotlib.patches import Polygon\n",
    "from scipy import signal\n",
    "from scipy import stats"
   ]
  },
  {
   "cell_type": "markdown",
   "metadata": {},
   "source": [
    "Model names"
   ]
  },
  {
   "cell_type": "code",
   "execution_count": 3,
   "metadata": {},
   "outputs": [],
   "source": [
    "modelnames_fig = ['CCSM3 abrupt 2x','CCSM3 abrupt 4x','CCSM3 abrupt 8x', \\\n",
    "    'CESM1.0.4 abrupt 2x','CESM1.0.4 abrupt 4x','CESM1.0.4 abrupt 8x', 'CNRM-CM6.1 abrupt4x', \\\n",
    "    'GFDL-CM3 1pct 2x','GFDL-ESM2M 1pct 2x','GISS-E2-R 1pct 4x', \\\n",
    "    'GISS-E2-R abrupt 4x','HadCM3L abrupt 2x','HadCM3L abrupt 4x', \\\n",
    "    'HadCM3L abrupt 6x','HadCM3L abrupt 8x','IPSL-CM5A-LR abrupt 4x', \\\n",
    "    'MIROC3.2 1pct 2x','MIROC3.2 1pct 4x','MPIESM-1.2 abrupt 2x', \\\n",
    "    'MPIESM-1.2 abrupt 4x','MPIESM-1.2 abrupt 8x','MPIESM-1.1 abrupt4x']\n",
    "\n",
    "modelnames_file = ['CCSM3_abrupt2x','CCSM3_abrupt4x','CCSM3_abrupt8x', \\\n",
    "    'CESM104_abrupt2x','CESM104_abrupt4x','CESM104_abrupt8x', \\\n",
    "    'CNRMCM61_abrupt4x','GFDLCM3_1pct2x','GFDLESM2M_1pct2x','GISSE2R_1pct4x', \\\n",
    "    'GISSE2R_abrupt4x','HadCM3L_abrupt2x','HadCM3L_abrupt4x', \\\n",
    "    'HadCM3L_abrupt6x','HadCM3L_abrupt8x','IPSLCM5A_abrupt4x', \\\n",
    "    'MIROC32_1pct2x','MIROC32_1pct4x','MPIESM12_abrupt2x', \\\n",
    "    'MPIESM12_abrupt4x','MPIESM12_abrupt8x','MPIESM11_abrupt4x']"
   ]
  },
  {
   "cell_type": "markdown",
   "metadata": {},
   "source": [
    "Data locations"
   ]
  },
  {
   "cell_type": "code",
   "execution_count": 4,
   "metadata": {},
   "outputs": [],
   "source": [
    "loc_pr = \"~/\" # change if using raw data\n",
    "loc_out = \"../Data/Precip/\""
   ]
  },
  {
   "cell_type": "markdown",
   "metadata": {},
   "source": [
    "Location information"
   ]
  },
  {
   "cell_type": "code",
   "execution_count": 7,
   "metadata": {},
   "outputs": [],
   "source": [
    "lat_min = -5\n",
    "lat_max = 5\n",
    "lon_min = 210\n",
    "lon_max = 270"
   ]
  },
  {
   "cell_type": "markdown",
   "metadata": {},
   "source": [
    "#### Analysis\n",
    "Area-average precip"
   ]
  },
  {
   "cell_type": "code",
   "execution_count": 8,
   "metadata": {},
   "outputs": [
    {
     "name": "stdout",
     "output_type": "stream",
     "text": [
      "MPIESM12_abrupt8x\n",
      "/dartfs-hpc/rc/lab/C/CMIG/ccallahan/ENSO/PRECIP/precip_nino3_MPIESM12_abrupt8x.nc\n",
      "/dartfs-hpc/rc/lab/C/CMIG/ccallahan/ENSO/PRECIP/precip_nino3_MPIESM12_control.nc\n",
      "MPIESM11_abrupt4x\n",
      "/dartfs-hpc/rc/lab/C/CMIG/ccallahan/ENSO/PRECIP/precip_nino3_MPIESM11_abrupt4x.nc\n",
      "/dartfs-hpc/rc/lab/C/CMIG/ccallahan/ENSO/PRECIP/precip_nino3_MPIESM11_control.nc\n"
     ]
    }
   ],
   "source": [
    "for i in np.arange(0,len(modelnames_file),1):\n",
    "    \n",
    "    model, exp = modelnames_file[i].split(\"_\")\n",
    "    print(modelnames_file[i])\n",
    "    \n",
    "    fname_exp_start = \"pr_mon_\"+modelnames_file[i]\n",
    "    fname_control_start = \"pr_mon_\"+model+\"_control\"\n",
    "    \n",
    "    fname_exp = [f for f in os.listdir(loc_pr) if f.startswith(fname_exp_start)][0]\n",
    "    fname_control = [f for f in os.listdir(loc_pr) if f.startswith(fname_control_start)][0]\n",
    "    \n",
    "    n1, n2, n3, n4, year_exp_nc = fname_exp.split(\"_\")\n",
    "    n1, n2, n3, n4, year_control_nc = fname_control.split(\"_\")\n",
    "    year_exp, nc = year_exp_nc.split(\".\")\n",
    "    year_control, nc = year_control_nc.split(\".\")\n",
    "    \n",
    "    # In this script we're repeatedly doing the calculations for the control, for each experiment\n",
    "    # That is, this loop for CESM abrupt2x and abrupt4x does the exact same calculation on the\n",
    "    # CESM control and re-writes the file\n",
    "    # but I'm too lazy to be more precise about it\n",
    "    \n",
    "    model_decode_times_list = [\"MIROC32\",\"MPIESM12\"]\n",
    "    \n",
    "    if model in model_decode_times_list:\n",
    "        pr_exp_global = xr.DataArray(xr.open_dataset(loc_pr+fname_exp,decode_times=False).data_vars[\"pr\"]) #.loc[:,lat_mins[j]:lat_maxs[j],lon_mins[j]:lon_maxs[j]])\n",
    "        pr_control_global = xr.DataArray(xr.open_dataset(loc_pr+fname_control,decode_times=False).data_vars[\"pr\"]) #.loc[:,lat_mins[j]:lat_maxs[j],lon_mins[j]:lon_maxs[j]])\n",
    "    else:\n",
    "        pr_exp_global = xr.DataArray(xr.open_dataset(loc_pr+fname_exp).data_vars[\"pr\"]) #.loc[:,lat_mins[j]:lat_maxs[j],lon_mins[j]:lon_maxs[j]])\n",
    "        pr_control_global = xr.DataArray(xr.open_dataset(loc_pr+fname_control).data_vars[\"pr\"]) #.loc[:,lat_mins[j]:lat_maxs[j],lon_mins[j]:lon_maxs[j]])\n",
    "            \n",
    "    if model == \"HadCM3L\":\n",
    "        lat_pr = pr_exp_global.coords[\"latitude_1\"]\n",
    "        lon_pr = pr_exp_global.coords[\"longitude_1\"]\n",
    "    else:\n",
    "        lat_pr = pr_exp_global.coords[\"lat\"]\n",
    "        lon_pr = pr_exp_global.coords[\"lon\"]\n",
    "    \n",
    "    if lat_pr[0] > lat_pr[len(lat_pr.values)-1]:\n",
    "        index_exp_raw = pr_exp_global.loc[:,lat_max:lat_min,lon_min:lon_max].mean(axis=(1,2))\n",
    "        index_control_raw = pr_control_global.loc[:,lat_max:lat_min,lon_min:lon_max].mean(axis=(1,2))\n",
    "    else:\n",
    "        index_exp_raw = pr_exp_global.loc[:,lat_min:lat_max,lon_min:lon_max].mean(axis=(1,2))\n",
    "        index_control_raw = pr_control_global.loc[:,lat_min:lat_max,lon_min:lon_max].mean(axis=(1,2))\n",
    "        \n",
    "    #index_exp_raw = tas_exp.mean(dim=[\"lat\",\"lon\"])\n",
    "    #index_control_raw = tas_exp.mean(dim=[\"lat\",\"lon\"])\n",
    "        \n",
    "    # attach time arrays\n",
    "    n_months_c = index_control_raw.shape[0]\n",
    "    n_months_f = index_exp_raw.shape[0]\n",
    "    time_exp = xr.cftime_range(start='0001', periods=n_months_f, freq='M')\n",
    "    time_control = xr.cftime_range(start='0001', periods=n_months_c, freq='M')\n",
    "    \n",
    "    index_exp_time = xr.DataArray(index_exp_raw.values,coords=[time_exp],dims=[\"time\"])\n",
    "    index_control_time = xr.DataArray(index_control_raw.values,coords=[time_control],dims=[\"time\"])\n",
    "    \n",
    "    \n",
    "    # write out raw index from experiment\n",
    "    index_exp_time.name = \"pr\"\n",
    "    index_exp_time.attrs[\"creation_date\"] = str(datetime.datetime.now())\n",
    "    index_exp_time.attrs[\"created_by\"] = \"Christopher Callahan, Christopher.W.Callahan.GR@dartmouth.edu\"\n",
    "    index_exp_time.attrs[\"data_description\"] = \"nino3 precip from \"+model+\" \"+exp+\", raw (not anomaly)\"\n",
    "    index_exp_time.attrs[\"created_from\"] = \"Calculate_Nino3Precip.ipynb\"\n",
    "        \n",
    "    fname_out_exp_raw = loc_out+\"precip_nino3_\"+model+\"_\"+exp+\".nc\"\n",
    "    index_exp_time.to_netcdf(fname_out_exp_raw,mode=\"w\")\n",
    "    print(fname_out_exp_raw)\n",
    "        \n",
    "        \n",
    "    # write out raw index from control\n",
    "    index_control_time.name = \"pr\"\n",
    "    index_control_time.attrs[\"creation_date\"] = str(datetime.datetime.now())\n",
    "    index_control_time.attrs[\"created_by\"] = \"Christopher Callahan, Christopher.W.Callahan.GR@dartmouth.edu\"\n",
    "    index_control_time.attrs[\"data_description\"] = \"nino3 precip from \"+model+\" control, raw (not anomaly)\"\n",
    "    index_control_time.attrs[\"created_from\"] = \"Calculate_Nino3Precip.ipynb\"\n",
    "        \n",
    "    fname_out_control_raw = loc_out+\"precip_nino3_\"+model+\"_control.nc\"\n",
    "    index_control_time.to_netcdf(fname_out_control_raw,mode=\"w\")\n",
    "    print(fname_out_control_raw)"
   ]
  }
 ],
 "metadata": {
  "kernelspec": {
   "display_name": "Python ccallahan",
   "language": "python",
   "name": "ccallahan"
  },
  "language_info": {
   "codemirror_mode": {
    "name": "ipython",
    "version": 3
   },
   "file_extension": ".py",
   "mimetype": "text/x-python",
   "name": "python",
   "nbconvert_exporter": "python",
   "pygments_lexer": "ipython3",
   "version": "3.7.3"
  }
 },
 "nbformat": 4,
 "nbformat_minor": 2
}
