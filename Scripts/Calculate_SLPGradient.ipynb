{
 "cells": [
  {
   "cell_type": "markdown",
   "metadata": {},
   "source": [
    "# Calculating the SLP gradient in the Pacific (i.e., Walker circulation) in the LongRunMIP\n",
    "#### Christopher Callahan\n",
    "#### Christopher.W.Callahan.GR@dartmouth.edu"
   ]
  },
  {
   "cell_type": "markdown",
   "metadata": {},
   "source": [
    "Raw Nino4 index minus raw Nino3 index."
   ]
  },
  {
   "cell_type": "markdown",
   "metadata": {},
   "source": [
    "#### Mechanics\n",
    "Import dependencies"
   ]
  },
  {
   "cell_type": "code",
   "execution_count": null,
   "metadata": {},
   "outputs": [],
   "source": [
    "import xarray as xr\n",
    "import numpy as np\n",
    "import sys\n",
    "import os\n",
    "import datetime\n",
    "import pandas as pd\n",
    "import matplotlib.pyplot as plt\n",
    "from mpl_toolkits.basemap import Basemap, cm\n",
    "from matplotlib import rcParams\n",
    "import matplotlib.gridspec as gridspec\n",
    "import seaborn as sns\n",
    "from scipy.io import loadmat\n",
    "from matplotlib.patches import Polygon\n",
    "from scipy import signal\n",
    "from scipy import stats"
   ]
  },
  {
   "cell_type": "markdown",
   "metadata": {},
   "source": [
    "Model names"
   ]
  },
  {
   "cell_type": "code",
   "execution_count": null,
   "metadata": {},
   "outputs": [],
   "source": [
    "modelnames_file = ['CCSM3_abrupt2x','CCSM3_abrupt4x','CCSM3_abrupt8x', \\\n",
    "    'CESM104_abrupt2x','CESM104_abrupt4x','CESM104_abrupt8x', \\\n",
    "    'CNRMCM61_abrupt4x','GFDLCM3_1pct2x','GFDLESM2M_1pct2x','GISSE2R_1pct4x', \\\n",
    "    'GISSE2R_abrupt4x','HadCM3L_abrupt2x','HadCM3L_abrupt4x', \\\n",
    "    'HadCM3L_abrupt6x','HadCM3L_abrupt8x','IPSLCM5A_abrupt4x', \\\n",
    "    'MIROC32_1pct2x','MIROC32_1pct4x','MPIESM12_abrupt2x', \\\n",
    "    'MPIESM12_abrupt4x','MPIESM12_abrupt8x']"
   ]
  },
  {
   "cell_type": "markdown",
   "metadata": {},
   "source": [
    "Data locations"
   ]
  },
  {
   "cell_type": "code",
   "execution_count": null,
   "metadata": {},
   "outputs": [],
   "source": [
    "loc_psl = \"~/\" # change if using raw data\n",
    "loc_out = \"../Data/SLPG/\""
   ]
  },
  {
   "cell_type": "markdown",
   "metadata": {},
   "source": [
    "Latitude and longitude information"
   ]
  },
  {
   "cell_type": "code",
   "execution_count": null,
   "metadata": {},
   "outputs": [],
   "source": [
    "lat_min = -5\n",
    "lat_max = 5\n",
    "\n",
    "lon_min_w = 80\n",
    "lon_max_w = 160\n",
    "lon_min_e = 200\n",
    "lon_max_e = 280"
   ]
  },
  {
   "cell_type": "markdown",
   "metadata": {},
   "source": [
    "#### Analysis"
   ]
  },
  {
   "cell_type": "markdown",
   "metadata": {},
   "source": [
    "Read in psl for each experiment, calculate gradient, output"
   ]
  },
  {
   "cell_type": "code",
   "execution_count": null,
   "metadata": {},
   "outputs": [],
   "source": [
    "for i in np.arange(0,len(modelnames_file),1):\n",
    "\n",
    "    model, exp = modelnames_file[i].split(\"_\")\n",
    "    print(modelnames_file[i])\n",
    "    \n",
    "    fname_exp_start = \"psl_mon_\"+modelnames_file[i]\n",
    "    fname_control_start = \"psl_mon_\"+model+\"_control\"\n",
    "    \n",
    "    fname_exp = [f for f in os.listdir(loc_psl) if f.startswith(fname_exp_start)][0]\n",
    "    fname_control = [f for f in os.listdir(loc_psl) if f.startswith(fname_control_start)][0]\n",
    "    \n",
    "    n1, n2, n3, n4, year_exp_nc = fname_exp.split(\"_\")\n",
    "    n1, n2, n3, n4, year_control_nc = fname_control.split(\"_\")\n",
    "    year_exp, nc = year_exp_nc.split(\".\")\n",
    "    year_control, nc = year_control_nc.split(\".\")\n",
    "    \n",
    "    if ((model == \"MIROC32\") | (model == \"MPIESM12\")):\n",
    "        psl_exp_global = xr.DataArray(xr.open_dataset(loc_psl+fname_exp,decode_times=False).data_vars[\"psl\"]) \n",
    "        psl_control_global = xr.DataArray(xr.open_dataset(loc_psl+fname_control,decode_times=False).data_vars[\"psl\"])\n",
    "    else:\n",
    "        psl_exp_global = xr.DataArray(xr.open_dataset(loc_psl+fname_exp).data_vars[\"psl\"])\n",
    "        psl_control_global = xr.DataArray(xr.open_dataset(loc_psl+fname_control).data_vars[\"psl\"])\n",
    "    \n",
    "    \n",
    "    if model == \"HadCM3L\":\n",
    "        lat_psl = psl_exp_global.coords[\"latitude_1\"]\n",
    "        lon_psl = psl_exp_global.coords[\"longitude_1\"]\n",
    "    else:\n",
    "        lat_psl = psl_exp_global.coords[\"lat\"]\n",
    "        lon_psl = psl_exp_global.coords[\"lon\"]\n",
    "            \n",
    "    if lat_psl[0] > lat_psl[len(lat_psl.values)-1]:\n",
    "        psl_west_exp = psl_exp_global.loc[:,lat_max:lat_min,lon_min_w:lon_max_w].mean(axis=(1,2))\n",
    "        psl_east_exp = psl_exp_global.loc[:,lat_max:lat_min,lon_min_e:lon_max_e].mean(axis=(1,2))\n",
    "        psl_west_control = psl_control_global.loc[:,lat_max:lat_min,lon_min_w:lon_max_w].mean(axis=(1,2))\n",
    "        psl_east_control = psl_control_global.loc[:,lat_max:lat_min,lon_min_e:lon_max_e].mean(axis=(1,2))\n",
    "    else:\n",
    "        psl_west_exp = psl_exp_global.loc[:,lat_min:lat_max,lon_min_w:lon_max_w].mean(axis=(1,2))\n",
    "        psl_east_exp = psl_exp_global.loc[:,lat_min:lat_max,lon_min_e:lon_max_e].mean(axis=(1,2))\n",
    "        psl_west_control = psl_control_global.loc[:,lat_min:lat_max,lon_min_w:lon_max_w].mean(axis=(1,2))\n",
    "        psl_east_control = psl_control_global.loc[:,lat_min:lat_max,lon_min_e:lon_max_e].mean(axis=(1,2))\n",
    "    \n",
    "    slpg_exp = psl_east_exp - psl_west_exp\n",
    "    slpg_control = psl_east_control - psl_west_control\n",
    "    \n",
    "    \n",
    "    # output\n",
    "    \n",
    "    slpg_exp.name = \"slpg\"\n",
    "    slpg_exp.attrs[\"creation_date\"] = str(datetime.datetime.now())\n",
    "    slpg_exp.attrs[\"created_by\"] = \"Christopher Callahan, Christopher.W.Callahan.GR@dartmouth.edu\"\n",
    "    slpg_exp.attrs[\"data_description\"] = \"SLP gradient (east-west) from  \"+model+\" \"+exp\n",
    "    slpg_exp.attrs[\"created_from\"] = \"Calculate_SLPGradient.ipynb\"\n",
    "        \n",
    "    fname_out_slpg_exp = loc_out+\"slpg_\"+model+\"_\"+exp+\".nc\"\n",
    "    slpg_exp.to_netcdf(fname_out_slpg_exp,mode=\"w\")\n",
    "    print(fname_out_slpg_exp)\n",
    "    \n",
    "    \n",
    "    slpg_control.name = \"slpg\"\n",
    "    slpg_control.attrs[\"creation_date\"] = str(datetime.datetime.now())\n",
    "    slpg_control.attrs[\"created_by\"] = \"Christopher Callahan, Christopher.W.Callahan.GR@dartmouth.edu\"\n",
    "    slpg_control.attrs[\"data_description\"] = \"SLP gradient (east-west) from \"+model+\" control\"\n",
    "    slpg_control.attrs[\"created_from\"] = \"Calculate_SLPGradient.ipynb\"\n",
    "        \n",
    "    fname_out_slpg_control = loc_out+\"slpg_\"+model+\"_control.nc\"\n",
    "    slpg_control.to_netcdf(fname_out_slpg_control,mode=\"w\")\n",
    "    print(fname_out_slpg_control)"
   ]
  }
 ],
 "metadata": {
  "kernelspec": {
   "display_name": "Python ccallahan",
   "language": "python",
   "name": "ccallahan"
  },
  "language_info": {
   "codemirror_mode": {
    "name": "ipython",
    "version": 3
   },
   "file_extension": ".py",
   "mimetype": "text/x-python",
   "name": "python",
   "nbconvert_exporter": "python",
   "pygments_lexer": "ipython3",
   "version": "3.7.3"
  }
 },
 "nbformat": 4,
 "nbformat_minor": 2
}
