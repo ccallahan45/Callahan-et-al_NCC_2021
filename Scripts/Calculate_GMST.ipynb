{
 "cells": [
  {
   "cell_type": "markdown",
   "metadata": {},
   "source": [
    "# Calculate global mean surface temperature from LongRunMIP models\n",
    "#### Christopher Callahan\n",
    "#### Christopher.W.Callahan.GR@dartmouth.edu"
   ]
  },
  {
   "cell_type": "markdown",
   "metadata": {},
   "source": [
    "Cosine latitude weighted global mean of tas"
   ]
  },
  {
   "cell_type": "markdown",
   "metadata": {},
   "source": [
    "#### Mechanics\n",
    "Dependencies"
   ]
  },
  {
   "cell_type": "code",
   "execution_count": null,
   "metadata": {},
   "outputs": [],
   "source": [
    "import xarray as xr\n",
    "import numpy as np\n",
    "import sys\n",
    "import os\n",
    "import datetime\n",
    "import pandas as pd"
   ]
  },
  {
   "cell_type": "markdown",
   "metadata": {},
   "source": [
    "Model names list"
   ]
  },
  {
   "cell_type": "code",
   "execution_count": null,
   "metadata": {},
   "outputs": [],
   "source": [
    "modelnames_fig = ['CCSM3 abrupt 2x','CCSM3 abrupt 4x','CCSM3 abrupt 8x', \\\n",
    "    'CESM1.0.4 abrupt 2x','CESM1.0.4 abrupt 4x','CESM1.0.4 abrupt 8x', 'CNRM-CM6.1 abrupt4x', \\\n",
    "    'GFDL-CM3 1pct 2x','GFDL-ESM2M 1pct 2x','GISS-E2-R 1pct 4x', \\\n",
    "    'GISS-E2-R abrupt 4x','HadCM3L abrupt 2x','HadCM3L abrupt 4x', \\\n",
    "    'HadCM3L abrupt 6x','HadCM3L abrupt 8x','IPSL-CM5A-LR abrupt 4x', \\\n",
    "    'MIROC3.2 1pct 2x','MIROC3.2 1pct 4x','MPIESM-1.2 abrupt 2x', \\\n",
    "    'MPIESM-1.2 abrupt 4x','MPIESM-1.2 abrupt 8x']\n",
    "\n",
    "modelnames_file = ['CCSM3_abrupt2x','CCSM3_abrupt4x','CCSM3_abrupt8x', \\\n",
    "    'CESM104_abrupt2x','CESM104_abrupt4x','CESM104_abrupt8x', \\\n",
    "    'CNRMCM61_abrupt4x','GFDLCM3_1pct2x','GFDLESM2M_1pct2x','GISSE2R_1pct4x', \\\n",
    "    'GISSE2R_abrupt4x','HadCM3L_abrupt2x','HadCM3L_abrupt4x', \\\n",
    "    'HadCM3L_abrupt6x','HadCM3L_abrupt8x','IPSLCM5A_abrupt4x', \\\n",
    "    'MIROC32_1pct2x','MIROC32_1pct4x','MPIESM12_abrupt2x', \\\n",
    "    'MPIESM12_abrupt4x','MPIESM12_abrupt8x']"
   ]
  },
  {
   "cell_type": "markdown",
   "metadata": {},
   "source": [
    "Data locations"
   ]
  },
  {
   "cell_type": "code",
   "execution_count": null,
   "metadata": {},
   "outputs": [],
   "source": [
    "loc_tas = \"~/\" # change if using raw data\n",
    "loc_out = \"../Data/GMST/\""
   ]
  },
  {
   "cell_type": "markdown",
   "metadata": {},
   "source": [
    "Function for listing files"
   ]
  },
  {
   "cell_type": "code",
   "execution_count": null,
   "metadata": {},
   "outputs": [],
   "source": [
    "def list_files(directory, extension):\n",
    "    \n",
    "    # Credit to: http://www.martinbroadhurst.com/listing-all-files-in-a-directory-with-a-certain-extension-in-python.html\n",
    "    # Requires os.listdir\n",
    "    \n",
    "    return (f for f in os.listdir(directory) if f.endswith(extension))"
   ]
  },
  {
   "cell_type": "markdown",
   "metadata": {},
   "source": [
    "#### Analysis"
   ]
  },
  {
   "cell_type": "code",
   "execution_count": null,
   "metadata": {},
   "outputs": [],
   "source": [
    "for i in np.arange(0,len(modelnames_file),1):\n",
    "    \n",
    "    model, exp = modelnames_file[i].split(\"_\")\n",
    "    print(modelnames_file[i])\n",
    "    \n",
    "    if modelnames_file[i] == \"MPIESM11_abrupt4x\":\n",
    "        fname_exp_start = \"tas_ann_\"+modelnames_file[i]\n",
    "        fname_control_start = \"tas_ann_\"+model+\"_control\"\n",
    "    else:\n",
    "        fname_exp_start = \"tas_mon_\"+modelnames_file[i]\n",
    "        fname_control_start = \"tas_mon_\"+model+\"_control\"\n",
    "    \n",
    "    fname_exp = [f for f in os.listdir(loc_tas) if f.startswith(fname_exp_start)][0]\n",
    "    fname_control = [f for f in os.listdir(loc_tas) if f.startswith(fname_control_start)][0]\n",
    "    \n",
    "    n1, n2, n3, n4, year_exp_nc = fname_exp.split(\"_\")\n",
    "    n1, n2, n3, n4, year_control_nc = fname_control.split(\"_\")\n",
    "    year_exp, nc = year_exp_nc.split(\".\")\n",
    "    year_control, nc = year_control_nc.split(\".\")\n",
    "    \n",
    "    \n",
    "    model_decode_times_list = [\"MIROC32\",\"MPIESM12\",\"MPIESM11\"]\n",
    "    if model in model_decode_times_list:\n",
    "        tas_exp_global = xr.DataArray(xr.open_dataset(loc_tas+fname_exp,decode_times=False).data_vars[\"tas\"]) #.loc[:,lat_mins[j]:lat_maxs[j],lon_mins[j]:lon_maxs[j]])\n",
    "        tas_control_global = xr.DataArray(xr.open_dataset(loc_tas+fname_control,decode_times=False).data_vars[\"tas\"]) #.loc[:,lat_mins[j]:lat_maxs[j],lon_mins[j]:lon_maxs[j]])\n",
    "    else:\n",
    "        tas_exp_global = xr.DataArray(xr.open_dataset(loc_tas+fname_exp).data_vars[\"tas\"]) #.loc[:,lat_mins[j]:lat_maxs[j],lon_mins[j]:lon_maxs[j]])\n",
    "        tas_control_global = xr.DataArray(xr.open_dataset(loc_tas+fname_control).data_vars[\"tas\"]) #.loc[:,lat_mins[j]:lat_maxs[j],lon_mins[j]:lon_maxs[j]])\n",
    "            \n",
    "    if model == \"HadCM3L\":\n",
    "        lat_tas = tas_exp_global.coords[\"latitude_1\"]\n",
    "        lon_tas = tas_exp_global.coords[\"longitude_1\"]\n",
    "    else:\n",
    "        lat_tas = tas_exp_global.coords[\"lat\"]\n",
    "        lon_tas = tas_exp_global.coords[\"lon\"]\n",
    "    \n",
    "    latshape = len(lat_tas)\n",
    "    lonshape = len(lon_tas)\n",
    "    \n",
    "    \n",
    "    # need to cosine-lat-weight the global mean\n",
    "    wgt = np.zeros((latshape,lonshape))\n",
    "    for ll in np.arange(0,lonshape,1):\n",
    "        wgt[:,ll] = np.sqrt(np.cos(np.radians(lat_tas.values)))\n",
    "    \n",
    "    tas_baseline_global = tas_control_global.mean(dim=\"time\")\n",
    "    #gmst_baseline = np.average(tas_baseline_global.values[~np.isnan(tas_baseline_global.values)],weights=wgt[~np.isnan(tas_baseline_global.values)])\n",
    "    indices = (~np.isnan(tas_baseline_global.values)) & (~np.isnan(wgt))\n",
    "    gmst_baseline = np.average(tas_baseline_global.values[indices],weights=wgt[indices])\n",
    "    \n",
    "    tas_exp_np = tas_exp_global.values\n",
    "    n_months_f = tas_exp_np.shape[0]\n",
    "    time_exp = xr.cftime_range(start='0001', periods=n_months_f, freq='M')\n",
    "    \n",
    "    gmst = xr.DataArray(np.zeros(len(time_exp)),coords=[time_exp],dims=[\"time\"])\n",
    "    for tt in np.arange(0,len(time_exp),1):\n",
    "        tas_tt = tas_exp_np[tt,:,:]\n",
    "        #gmst[tt] = np.average(tas_tt[~np.isnan(tas_tt)],weights=wgt[~np.isnan(tas_tt)])    \n",
    "        indices = (~np.isnan(tas_tt)) & (~np.isnan(wgt))\n",
    "        gmst[tt] = np.average(tas_tt[indices],weights=wgt[indices])    \n",
    "    \n",
    "    gmst_anom = gmst - gmst_baseline\n",
    "    gmst_anom_xr = xr.DataArray(gmst_anom.values,coords=[time_exp],dims=[\"time\"])\n",
    "\n",
    "    gmst_anom_xr.name = \"gmst\"\n",
    "    gmst_anom_xr.attrs[\"creation_date\"] = str(datetime.datetime.now())\n",
    "    gmst_anom_xr.attrs[\"created_by\"] = \"Christopher Callahan, Christopher.W.Callahan.GR@dartmouth.edu\"\n",
    "    gmst_anom_xr.attrs[\"variable_description\"] = \"Global mean surface temperature anomaly\"\n",
    "    gmst_anom_xr.attrs[\"created_from\"] = os.getcwd()+\"/Calculate_GMST.ipynb\"\n",
    "\n",
    "    fname_out = loc_out+\"GMST_anom_\"+model+\"_\"+exp+\".nc\"\n",
    "    gmst_anom_xr.to_netcdf(fname_out,mode=\"w\")\n",
    "    print(fname_out)"
   ]
  }
 ],
 "metadata": {
  "kernelspec": {
   "display_name": "Python ccallahan",
   "language": "python",
   "name": "ccallahan"
  },
  "language_info": {
   "codemirror_mode": {
    "name": "ipython",
    "version": 3
   },
   "file_extension": ".py",
   "mimetype": "text/x-python",
   "name": "python",
   "nbconvert_exporter": "python",
   "pygments_lexer": "ipython3",
   "version": "3.7.3"
  }
 },
 "nbformat": 4,
 "nbformat_minor": 2
}
