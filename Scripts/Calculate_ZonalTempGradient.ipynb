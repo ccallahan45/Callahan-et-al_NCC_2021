{
 "cells": [
  {
   "cell_type": "markdown",
   "metadata": {},
   "source": [
    "# Calculating Pacific zonal temperature gradient in the LongRunMIP\n",
    "#### Christopher Callahan\n",
    "#### Christopher.W.Callahan.GR@dartmouth.edu"
   ]
  },
  {
   "cell_type": "markdown",
   "metadata": {},
   "source": [
    "Raw Nino4 index minus raw Nino3 index."
   ]
  },
  {
   "cell_type": "markdown",
   "metadata": {},
   "source": [
    "#### Mechanics\n",
    "Import dependencies"
   ]
  },
  {
   "cell_type": "code",
   "execution_count": null,
   "metadata": {},
   "outputs": [],
   "source": [
    "import xarray as xr\n",
    "import numpy as np\n",
    "import sys\n",
    "import os\n",
    "import datetime\n",
    "import pandas as pd\n",
    "import matplotlib.pyplot as plt\n",
    "from mpl_toolkits.basemap import Basemap, cm\n",
    "from matplotlib import rcParams\n",
    "import matplotlib.gridspec as gridspec\n",
    "import seaborn as sns\n",
    "from scipy.io import loadmat\n",
    "from matplotlib.patches import Polygon\n",
    "from scipy import signal\n",
    "from scipy import stats"
   ]
  },
  {
   "cell_type": "markdown",
   "metadata": {},
   "source": [
    "Model names"
   ]
  },
  {
   "cell_type": "code",
   "execution_count": null,
   "metadata": {},
   "outputs": [],
   "source": [
    "modelnames_fig = ['CCSM3 abrupt 2x','CCSM3 abrupt 4x','CCSM3 abrupt 8x', \\\n",
    "    'CESM1.0.4 abrupt 2x','CESM1.0.4 abrupt 4x','CESM1.0.4 abrupt 8x', 'CNRM-CM6.1 abrupt4x', \\\n",
    "    'GFDL-CM3 1pct 2x','GFDL-ESM2M 1pct 2x','GISS-E2-R 1pct 4x', \\\n",
    "    'GISS-E2-R abrupt 4x','HadCM3L abrupt 2x','HadCM3L abrupt 4x', \\\n",
    "    'HadCM3L abrupt 6x','HadCM3L abrupt 8x','IPSL-CM5A-LR abrupt 4x', \\\n",
    "    'MIROC3.2 1pct 2x','MIROC3.2 1pct 4x','MPIESM-1.2 abrupt 2x', \\\n",
    "    'MPIESM-1.2 abrupt 4x','MPIESM-1.2 abrupt 8x']\n",
    "\n",
    "modelnames_file = ['CCSM3_abrupt2x','CCSM3_abrupt4x','CCSM3_abrupt8x', \\\n",
    "    'CESM104_abrupt2x','CESM104_abrupt4x','CESM104_abrupt8x', \\\n",
    "    'CNRMCM61_abrupt4x','GFDLCM3_1pct2x','GFDLESM2M_1pct2x','GISSE2R_1pct4x', \\\n",
    "    'GISSE2R_abrupt4x','HadCM3L_abrupt2x','HadCM3L_abrupt4x', \\\n",
    "    'HadCM3L_abrupt6x','HadCM3L_abrupt8x','IPSLCM5A_abrupt4x', \\\n",
    "    'MIROC32_1pct2x','MIROC32_1pct4x','MPIESM12_abrupt2x', \\\n",
    "    'MPIESM12_abrupt4x','MPIESM12_abrupt8x']"
   ]
  },
  {
   "cell_type": "markdown",
   "metadata": {},
   "source": [
    "Data locations"
   ]
  },
  {
   "cell_type": "code",
   "execution_count": null,
   "metadata": {},
   "outputs": [],
   "source": [
    "loc_indices = \"../Data/ENSO_Indices/\"\n",
    "loc_out = \"../Data/ZTG/\""
   ]
  },
  {
   "cell_type": "markdown",
   "metadata": {},
   "source": [
    "#### Analysis"
   ]
  },
  {
   "cell_type": "markdown",
   "metadata": {},
   "source": [
    "Read in nino3 and nino4 for each experiment, calculate ztg = nino4-nino3, then output."
   ]
  },
  {
   "cell_type": "code",
   "execution_count": null,
   "metadata": {},
   "outputs": [],
   "source": [
    "for i in np.arange(0,len(modelnames_file),1):\n",
    "    \n",
    "    model, exp = modelnames_file[i].split(\"_\")\n",
    "    print(modelnames_file[i])\n",
    "    \n",
    "    # experiment\n",
    "    fname_nino3_exp = loc_indices+\"nino3_\"+model+\"_\"+exp+\"_raw.nc\"\n",
    "    fname_nino4_exp = loc_indices+\"nino4_\"+model+\"_\"+exp+\"_raw.nc\"\n",
    "    \n",
    "    nino3_exp = xr.DataArray(xr.open_dataset(fname_nino3_exp).data_vars[\"nino3\"])\n",
    "    nino4_exp = xr.DataArray(xr.open_dataset(fname_nino4_exp).data_vars[\"nino4\"])\n",
    "    \n",
    "    ztg_exp = nino4_exp - nino3_exp\n",
    "    \n",
    "    # control\n",
    "    fname_nino3_control = loc_indices+\"nino3_\"+model+\"_control_raw.nc\"\n",
    "    fname_nino4_control = loc_indices+\"nino4_\"+model+\"_control_raw.nc\"\n",
    "    \n",
    "    nino3_control = xr.DataArray(xr.open_dataset(fname_nino3_control).data_vars[\"nino3\"])\n",
    "    nino4_control = xr.DataArray(xr.open_dataset(fname_nino4_control).data_vars[\"nino4\"])\n",
    "    \n",
    "    ztg_control = nino4_control - nino3_control\n",
    "    \n",
    "    # output\n",
    "    \n",
    "    ztg_exp.name = \"ztg\"\n",
    "    ztg_exp.attrs[\"creation_date\"] = str(datetime.datetime.now())\n",
    "    ztg_exp.attrs[\"created_by\"] = \"Christopher Callahan, Christopher.W.Callahan.GR@dartmouth.edu\"\n",
    "    ztg_exp.attrs[\"data_description\"] = \"zonal temp gradient (nino4-nino3) from  \"+model+\" \"+exp+\", raw (not anomaly)\"\n",
    "    ztg_exp.attrs[\"created_from\"] = \"Calculate_ZonalTempGradient.ipynb\"\n",
    "        \n",
    "    fname_out_ztg_exp = loc_out+\"ztg_\"+model+\"_\"+exp+\".nc\"\n",
    "    ztg_exp.to_netcdf(fname_out_ztg_exp,mode=\"w\")\n",
    "    print(fname_out_ztg_exp)\n",
    "        \n",
    "    ztg_control.name = \"ztg\"\n",
    "    ztg_control.attrs[\"creation_date\"] = str(datetime.datetime.now())\n",
    "    ztg_control.attrs[\"created_by\"] = \"Christopher Callahan, Christopher.W.Callahan.GR@dartmouth.edu\"\n",
    "    ztg_control.attrs[\"data_description\"] = \"zonal temp gradient (nino4-nino3) from \"+model+\" control, raw (not anomaly)\"\n",
    "    ztg_control.attrs[\"created_from\"] = \"Calculate_ZonalTempGradient.ipynb\"\n",
    "        \n",
    "    fname_out_ztg_control = loc_out+\"ztg_\"+model+\"_control.nc\"\n",
    "    ztg_control.to_netcdf(fname_out_ztg_control,mode=\"w\")\n",
    "    print(fname_out_ztg_control)"
   ]
  }
 ],
 "metadata": {
  "kernelspec": {
   "display_name": "Python ccallahan",
   "language": "python",
   "name": "ccallahan"
  },
  "language_info": {
   "codemirror_mode": {
    "name": "ipython",
    "version": 3
   },
   "file_extension": ".py",
   "mimetype": "text/x-python",
   "name": "python",
   "nbconvert_exporter": "python",
   "pygments_lexer": "ipython3",
   "version": "3.7.3"
  }
 },
 "nbformat": 4,
 "nbformat_minor": 2
}
