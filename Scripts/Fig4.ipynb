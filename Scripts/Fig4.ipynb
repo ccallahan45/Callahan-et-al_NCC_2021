{
 "cells": [
  {
   "cell_type": "markdown",
   "metadata": {},
   "source": [
    "# Plotting zonal temperature gradient analysis\n",
    "#### Christopher Callahan\n",
    "#### Christopher.W.Callahan.GR@dartmouth.edu"
   ]
  },
  {
   "cell_type": "markdown",
   "metadata": {},
   "source": [
    "#### Mechanics\n",
    "Read in dependencies"
   ]
  },
  {
   "cell_type": "code",
   "execution_count": 1,
   "metadata": {},
   "outputs": [],
   "source": [
    "import xarray as xr\n",
    "import numpy as np\n",
    "import sys\n",
    "import os\n",
    "import datetime\n",
    "import pandas as pd\n",
    "import matplotlib.pyplot as plt\n",
    "from mpl_toolkits.basemap import Basemap, cm\n",
    "from matplotlib import rcParams\n",
    "import matplotlib.gridspec as gridspec\n",
    "import seaborn as sns\n",
    "from scipy.io import loadmat\n",
    "from scipy import stats"
   ]
  },
  {
   "cell_type": "markdown",
   "metadata": {},
   "source": [
    "Set data location"
   ]
  },
  {
   "cell_type": "code",
   "execution_count": 2,
   "metadata": {},
   "outputs": [],
   "source": [
    "loc_nino34 = \"../Data/ENSO_Indices/\"\n",
    "loc_ztg = \"../Data/ZTG/\"\n",
    "loc_profiles = \"../Data/Pacific_Profiles/\""
   ]
  },
  {
   "cell_type": "markdown",
   "metadata": {},
   "source": [
    "Set models list, experiments, and colors"
   ]
  },
  {
   "cell_type": "code",
   "execution_count": 3,
   "metadata": {},
   "outputs": [],
   "source": [
    "modelnames_fig = ['CCSM3 abrupt 2x','CCSM3 abrupt 4x','CCSM3 abrupt 8x', \\\n",
    "    'CESM1.0.4 abrupt 2x','CESM1.0.4 abrupt 4x','CESM1.0.4 abrupt 8x', 'CNRM-CM6.1 abrupt4x', \\\n",
    "    'GFDL-CM3 1pct 2x','GFDL-ESM2M 1pct 2x','GISS-E2-R 1pct 4x', \\\n",
    "    'GISS-E2-R abrupt 4x','HadCM3L abrupt 2x','HadCM3L abrupt 4x', \\\n",
    "    'HadCM3L abrupt 6x','HadCM3L abrupt 8x','IPSL-CM5A-LR abrupt 4x', \\\n",
    "    'MIROC3.2 1pct 2x','MIROC3.2 1pct 4x','MPIESM-1.2 abrupt 2x', \\\n",
    "    'MPIESM-1.2 abrupt 4x','MPIESM-1.2 abrupt 8x']\n",
    "\n",
    "modelnames_file = ['CCSM3_abrupt2x','CCSM3_abrupt4x','CCSM3_abrupt8x', \\\n",
    "    'CESM104_abrupt2x','CESM104_abrupt4x','CESM104_abrupt8x', \\\n",
    "    'CNRMCM61_abrupt4x','GFDLCM3_1pct2x','GFDLESM2M_1pct2x','GISSE2R_1pct4x', \\\n",
    "    'GISSE2R_abrupt4x','HadCM3L_abrupt2x','HadCM3L_abrupt4x', \\\n",
    "    'HadCM3L_abrupt6x','HadCM3L_abrupt8x','IPSLCM5A_abrupt4x', \\\n",
    "    'MIROC32_1pct2x','MIROC32_1pct4x','MPIESM12_abrupt2x', \\\n",
    "    'MPIESM12_abrupt4x','MPIESM12_abrupt8x']\n",
    "\n",
    "runtype = ['abrupt','abrupt','abrupt','abrupt','abrupt','abrupt','lin','lin','lin', \\\n",
    "            'abrupt','abrupt','abrupt','abrupt','abrupt','abrupt', \\\n",
    "            'lin','lin','abrupt','abrupt','abrupt','abrupt'] \n",
    "\n",
    "colors = [[0,238,0],[0,238,0],[0,238,0], \\\n",
    "          [34,139,34],[34,139,34],[34,139,34],[135,206,255],[16,78,139],[30,144,255], \\\n",
    "          [255,110,180],[255,110,180],[255,0,0],[255,0,0],[255,0,0],[255,0,0], \\\n",
    "          [255,193,37],[122,55,139],[122,55,139],[153,153,153],[153,153,153],[153,153,153]]"
   ]
  },
  {
   "cell_type": "markdown",
   "metadata": {},
   "source": [
    "Set parameters for ZTG example"
   ]
  },
  {
   "cell_type": "code",
   "execution_count": 4,
   "metadata": {},
   "outputs": [],
   "source": [
    "exp = \"GISS-E2R_abrupt4x\"\n",
    "runtype_profile = \"abrupt\""
   ]
  },
  {
   "cell_type": "markdown",
   "metadata": {},
   "source": [
    "Function for hiding right and top axes"
   ]
  },
  {
   "cell_type": "code",
   "execution_count": 5,
   "metadata": {},
   "outputs": [],
   "source": [
    "def hide_right_and_top(axis):\n",
    "    \n",
    "    # This function hides the right and top axes\n",
    "    # of a given axis object\n",
    "    # For purely aesthetic purposes\n",
    "    \n",
    "    # Hide the right and top spines\n",
    "    axis.spines['right'].set_visible(False)\n",
    "    axis.spines['top'].set_visible(False)\n",
    "\n",
    "    # Only show ticks on the left and bottom spines\n",
    "    axis.yaxis.set_ticks_position('left')\n",
    "    axis.xaxis.set_ticks_position('bottom')"
   ]
  },
  {
   "cell_type": "code",
   "execution_count": 6,
   "metadata": {},
   "outputs": [],
   "source": [
    "def hide_top(axis):\n",
    "    \n",
    "    # This function hides the top axis\n",
    "    # of a given axis object\n",
    "    # For purely aesthetic purposes\n",
    "    \n",
    "    # Hide the top spine\n",
    "    axis.spines['top'].set_visible(False)\n",
    "\n",
    "    # Only show ticks on the bottom spine\n",
    "    axis.xaxis.set_ticks_position('bottom')"
   ]
  },
  {
   "cell_type": "markdown",
   "metadata": {},
   "source": [
    "Custom detrending function"
   ]
  },
  {
   "cell_type": "code",
   "execution_count": 7,
   "metadata": {},
   "outputs": [],
   "source": [
    "def custom_detrend(data,order):\n",
    "    \n",
    "    # only for one-dimensional timeseries\n",
    "    # numpy required\n",
    "    \n",
    "    x = np.arange(1,len(data)+1,1)\n",
    "    \n",
    "    model = np.polyfit(x,data,order)\n",
    "    predicted = np.polyval(model,x)\n",
    "    new = data - predicted\n",
    "    \n",
    "    return(new)"
   ]
  },
  {
   "cell_type": "markdown",
   "metadata": {},
   "source": [
    "#### Analysis\n",
    "First find relevant profiles"
   ]
  },
  {
   "cell_type": "code",
   "execution_count": 8,
   "metadata": {},
   "outputs": [
    {
     "name": "stderr",
     "output_type": "stream",
     "text": [
      "/dartfs-hpc/rc/home/y/f003k8y/.conda/envs/ccallahan/lib/python3.7/site-packages/xarray/coding/times.py:427: SerializationWarning: Unable to decode time axis into full numpy.datetime64 objects, continuing using cftime.datetime objects instead, reason: dates out of range\n",
      "  dtype = _decode_cf_datetime_dtype(data, units, calendar, self.use_cftime)\n",
      "/dartfs-hpc/rc/home/y/f003k8y/.conda/envs/ccallahan/lib/python3.7/site-packages/numpy/core/_asarray.py:83: SerializationWarning: Unable to decode time axis into full numpy.datetime64 objects, continuing using cftime.datetime objects instead, reason: dates out of range\n",
      "  return array(a, dtype, copy=False, order=order)\n"
     ]
    }
   ],
   "source": [
    "model = \"GISSE2R\"\n",
    "exp = \"abrupt4x\"\n",
    "f_in_profile_f = xr.open_dataset(loc_profiles+\"pacific_lon_profile_\"+model+\"_\"+exp+\".nc\")\n",
    "f_in_profile_c = xr.open_dataset(loc_profiles+\"pacific_lon_profile_\"+model+\"_control.nc\")\n",
    "\n",
    "# Read in variables\n",
    "profile_f = xr.DataArray(f_in_profile_f.data_vars[\"profile\"]) - 273.15\n",
    "profile_c = xr.DataArray(f_in_profile_c.data_vars[\"profile\"]) - 273.15\n",
    "nino34_c = xr.DataArray(xr.open_dataset(loc_nino34+\"nino34_\"+model+\"_control_anom_detrend2.nc\").data_vars[\"nino34\"])\n",
    "nino34_f = xr.DataArray(xr.open_dataset(loc_nino34+\"nino34_\"+model+\"_\"+exp+\"_anom_detrend2.nc\").data_vars[\"nino34\"])\n",
    "profile_lons = profile_f.coords[\"lon\"]\n",
    "\n",
    "# Find thresholds for La Nina and El Nino\n",
    "ctrl_en1 = np.percentile(nino34_c.values,75)\n",
    "ctrl_en2 = np.percentile(nino34_c.values,90)\n",
    "ctrl_ln1 = np.percentile(nino34_c.values,10)\n",
    "ctrl_ln2 = np.percentile(nino34_c.values,25)\n",
    "\n",
    "f_en1 = np.percentile(nino34_f.values,75)\n",
    "f_en2 = np.percentile(nino34_f.values,90)\n",
    "f_ln1 = np.percentile(nino34_f.values,10)\n",
    "f_ln2 = np.percentile(nino34_f.values,25)\n",
    "\n",
    "# Find average longitudinal profiles\n",
    "\n",
    "pc = profile_c.values\n",
    "profile_ctrl = np.mean(pc,axis=0)\n",
    "profile_ctrl_en = np.mean(pc[(nino34_c.values >= ctrl_en1) & (nino34_c.values <= ctrl_en2),:],axis=0)\n",
    "profile_ctrl_ln = np.mean(pc[(nino34_c.values >= ctrl_ln1) & (nino34_c.values <= ctrl_ln2),:],axis=0)\n",
    "\n",
    "if runtype_profile == \"abrupt\":\n",
    "    nyear_e = 150\n",
    "else:\n",
    "    nyear_e = 140\n",
    "\n",
    "profile_e = profile_f[nyear_e*12-1:profile_f.shape[0]-1,:]\n",
    "nino34_e = nino34_f[nyear_e*12-1:nino34_f.shape[0]-1]\n",
    "\n",
    "pe = profile_e.values\n",
    "profile_eq = np.mean(pe,axis=0)\n",
    "profile_eq_en = np.mean(pe[(nino34_e.values >= f_en1) & (nino34_e.values <= f_en2),:],axis=0)\n",
    "profile_eq_ln = np.mean(pe[(nino34_e.values >= f_ln1) & (nino34_e.values <= f_ln2),:],axis=0)"
   ]
  },
  {
   "cell_type": "markdown",
   "metadata": {},
   "source": [
    "Now find ZTG and amplitude change in both transient and equilibrium periods."
   ]
  },
  {
   "cell_type": "markdown",
   "metadata": {},
   "source": [
    "First construct the amplitude change - median of the percent running means"
   ]
  },
  {
   "cell_type": "code",
   "execution_count": 9,
   "metadata": {},
   "outputs": [],
   "source": [
    "amp_change_e = np.zeros(len(modelnames_fig))\n",
    "amp_change_t = np.zeros(len(modelnames_fig))\n",
    "\n",
    "ordr = 2\n",
    "\n",
    "rm_yr = 100"
   ]
  },
  {
   "cell_type": "code",
   "execution_count": 10,
   "metadata": {},
   "outputs": [
    {
     "name": "stdout",
     "output_type": "stream",
     "text": [
      "CCSM3_abrupt2x\n",
      "CCSM3_abrupt4x\n",
      "CCSM3_abrupt8x\n",
      "CESM104_abrupt2x\n",
      "CESM104_abrupt4x\n",
      "CESM104_abrupt8x\n",
      "CNRMCM61_abrupt4x\n",
      "GFDLCM3_1pct2x\n",
      "GFDLESM2M_1pct2x\n",
      "GISSE2R_1pct4x\n",
      "GISSE2R_abrupt4x\n",
      "HadCM3L_abrupt2x\n",
      "HadCM3L_abrupt4x\n",
      "HadCM3L_abrupt6x\n",
      "HadCM3L_abrupt8x\n",
      "IPSLCM5A_abrupt4x\n",
      "MIROC32_1pct2x\n",
      "MIROC32_1pct4x\n",
      "MPIESM12_abrupt2x\n",
      "MPIESM12_abrupt4x\n",
      "MPIESM12_abrupt8x\n"
     ]
    }
   ],
   "source": [
    "for i in np.arange(0,len(modelnames_file),1):\n",
    "    \n",
    "    model, exp = modelnames_file[i].split(\"_\")\n",
    "    print(modelnames_file[i])\n",
    "    \n",
    "    if model == \"MPIESM11\":\n",
    "        rm_length = rm_yr\n",
    "        n_per_year = 1\n",
    "    else:\n",
    "        rm_length = rm_yr*12\n",
    "        n_per_year = 12\n",
    "        \n",
    "    nino34_ctrl_anom = xr.DataArray(xr.open_dataset(loc_nino34+\"nino34_\"+model+\"_control_anom_detrend2.nc\").data_vars[\"nino34\"])\n",
    "    nino34_forced_anom = xr.DataArray(xr.open_dataset(loc_nino34+\"nino34_\"+model+\"_\"+exp+\"_anom_detrend2.nc\").data_vars[\"nino34\"])\n",
    "    \n",
    "    #print(\"Calculating amplitude change...\")\n",
    "    \n",
    "    std_f1 = pd.Series(nino34_forced_anom).rolling(rm_length,center=False).std().values\n",
    "    std_c1 = pd.Series(nino34_ctrl_anom).rolling(rm_length,center=False).std().values\n",
    "    \n",
    "    std_c = std_c1[~np.isnan(std_c1)]\n",
    "    std_f = std_f1[~np.isnan(std_f1)]\n",
    "    \n",
    "    baseline1 = np.mean(std_c)\n",
    "    baseline2 = np.std(nino34_ctrl_anom)\n",
    "    \n",
    "    amp_change = ((std_f - baseline1)/baseline1)*100\n",
    "    amp_cdist = ((std_c - baseline1)/baseline1)*100\n",
    "    \n",
    "    # Split amplitude change into transient and equilibrium\n",
    "    \n",
    "    if runtype[i] == \"abrupt\":\n",
    "        amp_change_transient = np.mean(amp_change[(50*n_per_year):(150*n_per_year)])\n",
    "        amp_change_eq = amp_change[(150*n_per_year):]\n",
    "        \n",
    "    else:\n",
    "        amp_change_transient = np.mean(amp_change[0:(140*n_per_year)])\n",
    "        amp_change_eq = amp_change[(140*n_per_year):]\n",
    "    \n",
    "    amp_change_e[i] = np.median(amp_change_eq)\n",
    "    amp_change_t[i] = np.median(amp_change_transient)"
   ]
  },
  {
   "cell_type": "code",
   "execution_count": 11,
   "metadata": {},
   "outputs": [
    {
     "name": "stdout",
     "output_type": "stream",
     "text": [
      "CCSM3_abrupt2x\n",
      "CCSM3_abrupt4x\n",
      "CCSM3_abrupt8x\n",
      "CESM104_abrupt2x\n",
      "CESM104_abrupt4x\n",
      "CESM104_abrupt8x\n",
      "CNRMCM61_abrupt4x\n",
      "GFDLCM3_1pct2x\n",
      "GFDLESM2M_1pct2x\n",
      "GISSE2R_1pct4x\n",
      "GISSE2R_abrupt4x\n",
      "HadCM3L_abrupt2x\n",
      "HadCM3L_abrupt4x\n",
      "HadCM3L_abrupt6x\n",
      "HadCM3L_abrupt8x\n",
      "IPSLCM5A_abrupt4x\n",
      "MIROC32_1pct2x\n",
      "MIROC32_1pct4x\n",
      "MPIESM12_abrupt2x\n",
      "MPIESM12_abrupt4x\n",
      "MPIESM12_abrupt8x\n"
     ]
    }
   ],
   "source": [
    "# Loop and find ZTG change\n",
    "\n",
    "ztg_change_e = np.zeros(len(modelnames_fig))\n",
    "ztg_change_t = np.zeros(len(modelnames_fig))\n",
    "    \n",
    "for i in np.arange(0,len(modelnames_file),1):\n",
    "    \n",
    "    model, exp = modelnames_file[i].split(\"_\")\n",
    "    print(modelnames_file[i])\n",
    "    \n",
    "    if model == \"MPIESM11\":\n",
    "        n_per_year = 1\n",
    "    else:\n",
    "        n_per_year = 12\n",
    "    \n",
    "    if ((model == \"MIROC32\") | (model == \"MPIESM12\") | (model == \"MPIESM11\")):\n",
    "        ztg_c = xr.DataArray(xr.open_dataset(loc_ztg+\"ztg_\"+model+\"_control.nc\",decode_times=False).data_vars[\"ztg\"])\n",
    "        ztg_f = xr.DataArray(xr.open_dataset(loc_ztg+\"ztg_\"+model+\"_\"+exp+\".nc\",decode_times=False).data_vars[\"ztg\"])\n",
    "    else:\n",
    "        ztg_c = xr.DataArray(xr.open_dataset(loc_ztg+\"ztg_\"+model+\"_control.nc\").data_vars[\"ztg\"])\n",
    "        ztg_f = xr.DataArray(xr.open_dataset(loc_ztg+\"ztg_\"+model+\"_\"+exp+\".nc\").data_vars[\"ztg\"])\n",
    "\n",
    "    if runtype[i] == \"abrupt\":\n",
    "        nyear_e = 150\n",
    "    else:\n",
    "        nyear_e = 140\n",
    "        \n",
    "    ztg_f_roll1 = (pd.Series(ztg_f).rolling(window=rm_length,center=True).mean())\n",
    "    ztg_c_roll1 = (pd.Series(ztg_c).rolling(window=rm_length,center=True).mean())\n",
    "    \n",
    "    ztg_f_roll = ztg_f_roll1[~np.isnan(ztg_f_roll1)]\n",
    "    ztg_c_roll = ztg_c_roll1[~np.isnan(ztg_c_roll1)]\n",
    "    \n",
    "    ztg_change_e[i] = (np.median((ztg_f_roll[(nyear_e*n_per_year)-1:(ztg_f_roll.shape[0]-1)] - np.mean(ztg_c_roll))/np.mean(ztg_c_roll)))*100\n",
    "    \n",
    "    if runtype[i] == \"abrupt\":\n",
    "        ztg_change_t[i] = (np.median((ztg_f_roll[(50*n_per_year):nyear_e*n_per_year-1] - np.mean(ztg_c_roll))/np.mean(ztg_c_roll)))*100\n",
    "    else:\n",
    "        ztg_change_t[i] = (np.median((ztg_f_roll[0:nyear_e*n_per_year-1] - np.mean(ztg_c_roll))/np.mean(ztg_c_roll)))*100\n"
   ]
  },
  {
   "cell_type": "markdown",
   "metadata": {},
   "source": [
    "Now regress them and find correlation coefficients"
   ]
  },
  {
   "cell_type": "code",
   "execution_count": 12,
   "metadata": {},
   "outputs": [],
   "source": [
    "### Regressions and correlation coefficients\n",
    "\n",
    "# Equilibrium period first\n",
    "\n",
    "polyfit_e = np.polyfit(ztg_change_e,amp_change_e,1)\n",
    "coef_e = polyfit_e[0]\n",
    "p_e = np.poly1d(polyfit_e)\n",
    "fit_e = p_e(ztg_change_e)\n",
    "c_y_e = [np.min(fit_e)-(50*coef_e),np.max(fit_e)+(50*coef_e)]\n",
    "c_x_e = [np.min(ztg_change_e)-50,np.max(ztg_change_e)+50]\n",
    "p_y_e = polyfit_e[0] * ztg_change_e + polyfit_e[1]\n",
    "err_e = amp_change_e - p_y_e\n",
    "\n",
    "p_x_e = np.arange(np.min(ztg_change_e)-20,np.max(ztg_change_e)+20+10,10)\n",
    "mean_x_e = np.mean(ztg_change_e)\n",
    "n_e = len(ztg_change_e)\n",
    "t = 2.31\n",
    "s_err_e = np.sum(np.power(err_e,2))\n",
    "\n",
    "confs_e = t * np.sqrt((s_err_e/(n_e-2))*(1.0/n_e + (np.power((p_x_e-mean_x_e),2)/((np.sum(np.power(ztg_change_e,2)))-n_e*(np.power(mean_x_e,2))))))\n",
    "p_y_e = polyfit_e[0]*p_x_e + polyfit_e[1]\n",
    "lower_e = p_y_e - abs(confs_e)\n",
    "upper_e = p_y_e + abs(confs_e)\n",
    "\n",
    "\n",
    "corrcoef_e = np.corrcoef(ztg_change_e,amp_change_e)\n",
    "r_e = corrcoef_e[0][1]\n",
    "\n",
    "\n",
    "# Now transient period\n",
    "\n",
    "polyfit_t = np.polyfit(ztg_change_t,amp_change_t,1)\n",
    "coef_t = polyfit_t[0]\n",
    "p_t = np.poly1d(polyfit_t)\n",
    "fit_t = p_t(ztg_change_t)\n",
    "c_y_t = [np.min(fit_t)-(50*coef_t),np.max(fit_t)+(50*coef_t)]\n",
    "c_x_t = [np.min(ztg_change_t)-50,np.max(ztg_change_t)+50]\n",
    "p_y_t = polyfit_t[0] * ztg_change_t + polyfit_t[1]\n",
    "err_t = amp_change_t - p_y_t\n",
    "\n",
    "p_x_t = np.arange(np.min(ztg_change_t)-20,np.max(ztg_change_t)+20+10,10)\n",
    "mean_x_t = np.mean(ztg_change_t)\n",
    "n_t = len(ztg_change_t)\n",
    "t = 2.31\n",
    "s_err_t = np.sum(np.power(err_t,2))\n",
    "\n",
    "confs_t = t * np.sqrt((s_err_t/(n_t-2))*(1.0/n_t + (np.power((p_x_t-mean_x_t),2)/((np.sum(np.power(ztg_change_t,2)))-n_t*(np.power(mean_x_t,2))))))\n",
    "p_y_t = polyfit_t[0]*p_x_t + polyfit_t[1]\n",
    "lower_t = p_y_t - abs(confs_t)\n",
    "upper_t = p_y_t + abs(confs_t)\n",
    "\n",
    "\n",
    "corrcoef_t = np.corrcoef(ztg_change_t,amp_change_t)\n",
    "r_t = corrcoef_t[0][1]\n",
    "\n",
    "## Calculating confidence intervals via: https://tomholderness.wordpress.com/2013/01/10/confidence_intervals/"
   ]
  },
  {
   "cell_type": "markdown",
   "metadata": {},
   "source": [
    "#### Plot"
   ]
  },
  {
   "cell_type": "code",
   "execution_count": null,
   "metadata": {},
   "outputs": [],
   "source": [
    "fig = plt.figure(figsize=(24,18))\n",
    "\n",
    "rcParams[\"font.family\"] = \"sans-serif\"\n",
    "rcParams[\"font.sans-serif\"] = [\"Helvetica Neue\"]\n",
    "rcParams[\"font.size\"] = 30.0\n",
    "rcParams[\"axes.linewidth\"] = 1.5\n",
    "rcParams['xtick.major.size'] = 8\n",
    "rcParams['xtick.major.width'] = 1.5\n",
    "rcParams['ytick.major.size'] = 8\n",
    "rcParams['ytick.major.width'] = 1.5\n",
    "\n",
    "\n",
    "gs1 = gridspec.GridSpec(2,2)\n",
    "gs1.update(left=0.1,right=0.9,top=0.9,bottom=0.1,wspace=0.2,hspace=0.28)\n",
    "\n",
    "regress_col = [0.3,0.3,0.3]\n",
    "\n",
    "\n",
    "\n",
    "## ZTG profile example\n",
    "\n",
    "# Control\n",
    "ax = plt.subplot(gs1[0,0])\n",
    "hide_top(ax)\n",
    "\n",
    "#p1 = plt.plot(profile_ctrl,linewidth=3,linestyle=\"-\",label=\"Control mean gradient\",color=\"k\")\n",
    "#p2 = plt.plot(profile_ctrl_en,linewidth=3,linestyle=\"--\",label=\"Control EN gradient\",color=\"k\")\n",
    "#p3 = plt.plot(profile_ctrl_ln,linewidth=3,linestyle=\"-.\",label=\"Control LN gradient\",color=\"k\")\n",
    "p2 = plt.plot(profile_ctrl_en,linewidth=3,linestyle=\"--\",label=\"El Nino\",color=\"k\")\n",
    "p1 = plt.plot(profile_ctrl,linewidth=3,linestyle=\"-\",label=\"Mean\",color=\"k\")\n",
    "p3 = plt.plot(profile_ctrl_ln,linewidth=3,linestyle=\"-.\",label=\"La Nina\",color=\"k\")\n",
    "\n",
    "plt.ylabel(\"Control temperature ($\\degree$C)\",color=\"black\",labelpad=10)\n",
    "plt.ylim([298-273,302.6-273])\n",
    "plt.xlabel(\"Longitude\")\n",
    "\n",
    "plt.legend(loc=\"lower left\",frameon=False,fontsize=25,ncol=1)\n",
    "\n",
    "# Forced\n",
    "ax1 = ax.twinx()\n",
    "hide_top(ax1)\n",
    "axcol = \"red\"\n",
    "\n",
    "p1 = plt.plot(profile_eq,linewidth=3,linestyle=\"-\",label=\"Abrupt4x mean gradient\",color=\"r\")\n",
    "p2 = plt.plot(profile_eq_en,linewidth=3,linestyle=\"--\",label=\"Abrupt4x EN gradient\",color=\"r\")\n",
    "p3 = plt.plot(profile_eq_ln,linewidth=3,linestyle=\"-.\",label=\"Abrupt4x LN gradient\",color=\"r\")\n",
    "\n",
    "plt.ylim([301-273,305.6-273])\n",
    "plt.ylabel(\"Equilibrium temperature ($\\degree$C)\",color=axcol,labelpad=10)\n",
    "ax1.tick_params(axis=\"y\",labelcolor=axcol)\n",
    "\n",
    "#plt.legend(loc=\"upper right\",frameon=False,fontsize=25)\n",
    "plt.text(25,305-272.9,\"Control\",color=\"black\",fontsize=30)\n",
    "plt.text(35,305-272.9,\"High-CO$_2$\",color=\"red\",fontsize=30)\n",
    "\n",
    "plt.xlim([11,59])\n",
    "\n",
    "\n",
    "plt.title(\"GISS-E2-R gradients\")\n",
    "\n",
    "\n",
    "ind170 = np.argmin(np.abs(profile_lons.values - 170))\n",
    "ind220 = np.argmin(np.abs(profile_lons.values - 220))\n",
    "ind270 = np.argmin(np.abs(profile_lons.values - 270))\n",
    "plt.xticks(ticks=[ind170,ind220,ind270],\n",
    "           labels=[\"170 ${\\degree}$E\",\"220 ${\\degree}$E\",\"270 ${\\degree}$E\"])\n",
    "\n",
    "\n",
    "# Hide the right and top spines\n",
    "#ax.spines['right'].set_visible(False)\n",
    "#ax.spines['top'].set_visible(False)\n",
    "\n",
    "# Only show ticks on the left and bottom spines\n",
    "#ax.yaxis.set_ticks_position('left')\n",
    "#ax.xaxis.set_ticks_position('bottom')\n",
    "\n",
    "#plt.text(11,305.9,\"a\",fontsize=40,weight=\"bold\")\n",
    "\n",
    "\n",
    "\n",
    "\n",
    "## Now equilibrium and transient ZTG vs. amplitude\n",
    "\n",
    "# Transient\n",
    "\n",
    "ax = plt.subplot(gs1[1,0])\n",
    "hide_right_and_top(ax)\n",
    "\n",
    "for i in np.arange(0,len(modelnames_fig),1):\n",
    "    \n",
    "    plt.text(ztg_change_t[i],amp_change_t[i],str(i+1),fontsize=40,color=list(np.array(colors[i])/255.))\n",
    "\n",
    "plt.xlim([-50,20])\n",
    "plt.ylim([-110,80])\n",
    "\n",
    "plt.axhline(y=0,linestyle=\"-\",linewidth=1,color=\"k\")\n",
    "plt.axvline(x=0,linestyle=\"-\",linewidth=1,color=\"k\")\n",
    "\n",
    "plt.xlabel(\"$\\Delta$ Zonal temperature gradient (%)\")\n",
    "plt.ylabel(\"$\\Delta$ Amplitude (%)\")\n",
    "plt.title(\"Transient\")\n",
    "\n",
    "#plt.plot(np.unique(ztg_change_t), np.poly1d(np.polyfit(ztg_change_t, amp_change_t, 1))(np.unique(ztg_change_t)))\n",
    "\n",
    "\n",
    "p = sns.regplot(ztg_change_t,\n",
    "            amp_change_t,color=\"black\",\n",
    "           scatter_kws={\"alpha\":0})\n",
    "plt.setp(p.collections[1], alpha=0.1)\n",
    "\n",
    "# Transient regression line\n",
    "#p1 = plt.plot(c_x_t,c_y_t,linewidth=2,linestyle=\"-\",color=regress_col,label=\"Transient Least-Squares\")\n",
    "\n",
    "# Equilibrium regression line\n",
    "#p2 = plt.plot(c_x_e,c_y_e,linewidth=2,linestyle=\"--\",color=regress_col,label=\"Equilibrium Least-Squares\")\n",
    "\n",
    "#plt.legend(loc=\"upper left\",frameon=False,fontsize=25)\n",
    "#plt.plot(p_x_t,lower_t,linewidth=1.5,linestyle=\"-\",color=regress_col)\n",
    "#plt.plot(p_x_t,upper_t,linewidth=1.5,linestyle=\"-\",color=regress_col)\n",
    "\n",
    "\n",
    "#plt.text(-50,87,\"b\",fontsize=40,weight=\"bold\")\n",
    "\n",
    "plt.text(-43,55,\"r = \"+str(np.around(r_t,2)))\n",
    "#plt.text(-43.8,31,r\"$\\beta$ = \"+str(np.around(coef_t,2))+\" (%/%)\")\n",
    "rr, p = stats.pearsonr(ztg_change_t,amp_change_t)\n",
    "plt.text(-43,39,\"$\\it{P}$ = \"+str(np.around(p,3)))\n",
    "\n",
    "\n",
    "# Equilibrium\n",
    "\n",
    "ax = plt.subplot(gs1[1,1])\n",
    "hide_right_and_top(ax)\n",
    "\n",
    "for i in np.arange(0,len(modelnames_fig),1):\n",
    "    \n",
    "    plt.text(ztg_change_e[i],amp_change_e[i],str(i+1),fontsize=40,color=list(np.array(colors[i])/255.))\n",
    "\n",
    "#sns.regplot(ztg_change_e,amp_change_e,x_ci=\"ci\",order=1,color=\"gray\",scatter=False)\n",
    "#sns.regplot(ztg_change_e,amp_change_e,x_ci=\"ci\",scatter=False,ci=95,color=\"gray\")\n",
    "\n",
    "\n",
    "plt.xlim([-50,20])\n",
    "plt.ylim([-110,80])\n",
    "\n",
    "plt.axhline(y=0,linestyle=\"-\",linewidth=1,color=\"k\")\n",
    "plt.axvline(x=0,linestyle=\"-\",linewidth=1,color=\"k\")\n",
    "\n",
    "plt.xlabel(\"$\\Delta$ Zonal temperature gradient (%)\")\n",
    "plt.title(\"Equilibrium\")\n",
    "\n",
    "p = sns.regplot(ztg_change_e,\n",
    "            amp_change_e,color=\"black\",\n",
    "           scatter_kws={\"alpha\":0})\n",
    "plt.setp(p.collections[1], alpha=0.1)\n",
    "\n",
    "# Transient regression line\n",
    "p1 = plt.plot(c_x_t,c_y_t,linewidth=2,linestyle=\"--\",color=[0.5,0.5,0.5],label=\"Transient Least-Squares\")\n",
    "\n",
    "# Equilibrium regression line\n",
    "#p2 = plt.plot(c_x_e,c_y_e,linewidth=2,linestyle=\"-\",color=regress_col,label=\"Equilibrium Least-Squares\")\n",
    "\n",
    "#plt.plot(p_x_e,lower_e,linewidth=1.5,linestyle=\"-\",color=regress_col)\n",
    "#plt.plot(p_x_e,upper_e,linewidth=1.5,linestyle=\"-\",color=regress_col)\n",
    "\n",
    "#plt.text(-50,87,\"c\",fontsize=40,weight=\"bold\")\n",
    "\n",
    "#plt.legend(loc=\"upper left\",frameon=False,fontsize=25)\n",
    "\n",
    "rr, p = stats.pearsonr(ztg_change_e,amp_change_e)\n",
    "plt.text(-43,55,\"r = \"+str(np.around(r_e,2)))\n",
    "plt.text(-43,39,\"$\\it{P}$ = \"+str(np.around(p,3)))\n",
    "#plt.text(-52.8,31,r\"$\\beta$ = \"+str(np.around(coef_e,2))+\" (%/%)\")\n",
    "\n",
    "\n",
    "\n",
    "# Legend with model text\n",
    "\n",
    "ax = plt.subplot(gs1[0,1])\n",
    "\n",
    "for i in np.arange(0,int(np.ceil((len(modelnames_fig))/2)),1):\n",
    "\n",
    "    plt.text(0.05,9-(i*2),str(i+1)+\") \"+modelnames_fig[i],fontsize=27,color=list(np.array(colors[i])/255.))\n",
    "\n",
    "for i in np.arange(int(np.ceil((len(modelnames_fig))/2)),int(len(modelnames_fig)),1):\n",
    "    \n",
    "    plt.text(0.57,30.3-(i*2),str(i+1)+\") \"+modelnames_fig[i],fontsize=27,color=list(np.array(colors[i])/255.))\n",
    "    \n",
    "\n",
    "plt.ylim([-12,12])\n",
    "plt.axis(\"off\")\n",
    "\n",
    "\n",
    "plt.figtext(0.095,0.93,r\"$\\bf{a}$\",fontsize=40)\n",
    "plt.figtext(0.095,0.475,r\"$\\bf{b}$\",fontsize=40)\n",
    "plt.figtext(0.53,0.475,r\"$\\bf{c}$\",fontsize=40)\n",
    "\n",
    "plt.savefig(\"../Figures/Figure4.pdf\")\n",
    "\n",
    "plt.show()"
   ]
  },
  {
   "cell_type": "code",
   "execution_count": 14,
   "metadata": {},
   "outputs": [
    {
     "data": {
      "text/plain": [
       "(0.6051691673117507, 0.0036524895783746993)"
      ]
     },
     "execution_count": 14,
     "metadata": {},
     "output_type": "execute_result"
    }
   ],
   "source": [
    "print(stats.pearsonr(ztg_change_t,amp_change_t))"
   ]
  },
  {
   "cell_type": "code",
   "execution_count": 15,
   "metadata": {},
   "outputs": [
    {
     "data": {
      "text/plain": [
       "(0.5763370746518057, 0.006245103769326388)"
      ]
     },
     "execution_count": 15,
     "metadata": {},
     "output_type": "execute_result"
    }
   ],
   "source": [
    "print(stats.pearsonr(ztg_change_e,amp_change_e))"
   ]
  },
  {
   "cell_type": "code",
   "execution_count": 16,
   "metadata": {},
   "outputs": [
    {
     "data": {
      "text/plain": [
       "SpearmanrResult(correlation=0.5584415584415584, pvalue=0.008510101872800194)"
      ]
     },
     "execution_count": 16,
     "metadata": {},
     "output_type": "execute_result"
    }
   ],
   "source": [
    "print(stats.spearmanr(ztg_change_e,amp_change_e))"
   ]
  },
  {
   "cell_type": "code",
   "execution_count": 17,
   "metadata": {},
   "outputs": [
    {
     "data": {
      "text/plain": [
       "SpearmanrResult(correlation=0.587012987012987, pvalue=0.005149313814572185)"
      ]
     },
     "execution_count": 17,
     "metadata": {},
     "output_type": "execute_result"
    }
   ],
   "source": [
    "print(stats.spearmanr(ztg_change_t,amp_change_t))"
   ]
  }
 ],
 "metadata": {
  "kernelspec": {
   "display_name": "Python ccallahan",
   "language": "python",
   "name": "ccallahan"
  },
  "language_info": {
   "codemirror_mode": {
    "name": "ipython",
    "version": 3
   },
   "file_extension": ".py",
   "mimetype": "text/x-python",
   "name": "python",
   "nbconvert_exporter": "python",
   "pygments_lexer": "ipython3",
   "version": "3.7.3"
  }
 },
 "nbformat": 4,
 "nbformat_minor": 2
}
