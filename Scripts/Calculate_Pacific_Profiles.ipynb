{
 "cells": [
  {
   "cell_type": "markdown",
   "metadata": {},
   "source": [
    "# Calculating longitudinal profiles of Pacific temp\n",
    "#### Christopher Callahan\n",
    "#### Christopher.W.Callahan.GR@dartmouth.edu"
   ]
  },
  {
   "cell_type": "markdown",
   "metadata": {},
   "source": [
    "#### Mechanics\n",
    "Read dependencies"
   ]
  },
  {
   "cell_type": "code",
   "execution_count": 1,
   "metadata": {},
   "outputs": [],
   "source": [
    "import xarray as xr\n",
    "import numpy as np\n",
    "import sys\n",
    "import os\n",
    "import datetime\n",
    "import pandas as pd\n",
    "import matplotlib.pyplot as plt\n",
    "from mpl_toolkits.basemap import Basemap, cm\n",
    "from matplotlib import rcParams\n",
    "import matplotlib.gridspec as gridspec\n",
    "import seaborn as sns\n",
    "from scipy.io import loadmat\n",
    "from scipy import signal"
   ]
  },
  {
   "cell_type": "markdown",
   "metadata": {},
   "source": [
    "Model names"
   ]
  },
  {
   "cell_type": "code",
   "execution_count": 2,
   "metadata": {},
   "outputs": [],
   "source": [
    "modelnames_fig = ['CCSM3 abrupt 2x','CCSM3 abrupt 4x','CCSM3 abrupt 8x', \\\n",
    "    'CESM1.0.4 abrupt 2x','CESM1.0.4 abrupt 4x','CESM1.0.4 abrupt 8x', 'CNRM-CM6.1 abrupt4x', \\\n",
    "    'GFDL-CM3 1pct 2x','GFDL-ESM2M 1pct 2x','GISS-E2-R 1pct 4x', \\\n",
    "    'GISS-E2-R abrupt 4x','HadCM3L abrupt 2x','HadCM3L abrupt 4x', \\\n",
    "    'HadCM3L abrupt 6x','HadCM3L abrupt 8x','IPSL-CM5A-LR abrupt 4x', \\\n",
    "    'MIROC3.2 1pct 2x','MIROC3.2 1pct 4x','MPIESM-1.2 abrupt 2x', \\\n",
    "    'MPIESM-1.2 abrupt 4x','MPIESM-1.2 abrupt 8x']\n",
    "\n",
    "modelnames_file = ['CCSM3_abrupt2x','CCSM3_abrupt4x','CCSM3_abrupt8x', \\\n",
    "    'CESM104_abrupt2x','CESM104_abrupt4x','CESM104_abrupt8x', \\\n",
    "    'CNRMCM61_abrupt4x','GFDLCM3_1pct2x','GFDLESM2M_1pct2x','GISSE2R_1pct4x', \\\n",
    "    'GISSE2R_abrupt4x','HadCM3L_abrupt2x','HadCM3L_abrupt4x', \\\n",
    "    'HadCM3L_abrupt6x','HadCM3L_abrupt8x','IPSLCM5A_abrupt4x', \\\n",
    "    'MIROC32_1pct2x','MIROC32_1pct4x','MPIESM12_abrupt2x', \\\n",
    "    'MPIESM12_abrupt4x','MPIESM12_abrupt8x']"
   ]
  },
  {
   "cell_type": "markdown",
   "metadata": {},
   "source": [
    "Data location"
   ]
  },
  {
   "cell_type": "code",
   "execution_count": 3,
   "metadata": {},
   "outputs": [],
   "source": [
    "loc_tas = \"~/\" # change if using raw data\n",
    "loc_out = \"../Data/Pacific_Profiles/\""
   ]
  },
  {
   "cell_type": "markdown",
   "metadata": {},
   "source": [
    "Function for listing files"
   ]
  },
  {
   "cell_type": "code",
   "execution_count": 4,
   "metadata": {},
   "outputs": [],
   "source": [
    "def list_files(directory, extension):\n",
    "    \n",
    "    # Credit to: http://www.martinbroadhurst.com/listing-all-files-in-a-directory-with-a-certain-extension-in-python.html\n",
    "    # Requires os.listdir\n",
    "    \n",
    "    return (f for f in os.listdir(directory) if f.endswith(extension))"
   ]
  },
  {
   "cell_type": "markdown",
   "metadata": {},
   "source": [
    "Area info"
   ]
  },
  {
   "cell_type": "code",
   "execution_count": 5,
   "metadata": {},
   "outputs": [],
   "source": [
    "lat_min = -5\n",
    "lat_max = 5\n",
    "lon_min = 130\n",
    "lon_max = 280"
   ]
  },
  {
   "cell_type": "markdown",
   "metadata": {},
   "source": [
    "#### Analysis"
   ]
  },
  {
   "cell_type": "markdown",
   "metadata": {},
   "source": [
    "Loop through simulations, calculate profiles, output"
   ]
  },
  {
   "cell_type": "code",
   "execution_count": 6,
   "metadata": {},
   "outputs": [
    {
     "name": "stdout",
     "output_type": "stream",
     "text": [
      "CCSM3_abrupt2x\n",
      "../Data/Pacific_Profiles/pacific_lon_profile_CCSM3_abrupt2x.nc\n",
      "../Data/Pacific_Profiles/pacific_lon_profile_CCSM3_control.nc\n",
      "CCSM3_abrupt4x\n",
      "../Data/Pacific_Profiles/pacific_lon_profile_CCSM3_abrupt4x.nc\n",
      "../Data/Pacific_Profiles/pacific_lon_profile_CCSM3_control.nc\n",
      "CCSM3_abrupt8x\n",
      "../Data/Pacific_Profiles/pacific_lon_profile_CCSM3_abrupt8x.nc\n",
      "../Data/Pacific_Profiles/pacific_lon_profile_CCSM3_control.nc\n",
      "CESM104_abrupt2x\n",
      "../Data/Pacific_Profiles/pacific_lon_profile_CESM104_abrupt2x.nc\n",
      "../Data/Pacific_Profiles/pacific_lon_profile_CESM104_control.nc\n",
      "CESM104_abrupt4x\n",
      "../Data/Pacific_Profiles/pacific_lon_profile_CESM104_abrupt4x.nc\n",
      "../Data/Pacific_Profiles/pacific_lon_profile_CESM104_control.nc\n",
      "CESM104_abrupt8x\n",
      "../Data/Pacific_Profiles/pacific_lon_profile_CESM104_abrupt8x.nc\n",
      "../Data/Pacific_Profiles/pacific_lon_profile_CESM104_control.nc\n",
      "CNRMCM61_abrupt4x\n"
     ]
    },
    {
     "name": "stderr",
     "output_type": "stream",
     "text": [
      "/dartfs-hpc/rc/home/y/f003k8y/.conda/envs/ccallahan/lib/python3.7/site-packages/xarray/coding/times.py:427: SerializationWarning: Unable to decode time axis into full numpy.datetime64 objects, continuing using cftime.datetime objects instead, reason: dates out of range\n",
      "  dtype = _decode_cf_datetime_dtype(data, units, calendar, self.use_cftime)\n",
      "/dartfs-hpc/rc/home/y/f003k8y/.conda/envs/ccallahan/lib/python3.7/site-packages/xarray/coding/times.py:427: SerializationWarning: Unable to decode time axis into full numpy.datetime64 objects, continuing using cftime.datetime objects instead, reason: dates out of range\n",
      "  dtype = _decode_cf_datetime_dtype(data, units, calendar, self.use_cftime)\n",
      "/dartfs-hpc/rc/home/y/f003k8y/.conda/envs/ccallahan/lib/python3.7/site-packages/numpy/core/_asarray.py:83: SerializationWarning: Unable to decode time axis into full numpy.datetime64 objects, continuing using cftime.datetime objects instead, reason: dates out of range\n",
      "  return array(a, dtype, copy=False, order=order)\n",
      "/dartfs-hpc/rc/home/y/f003k8y/.conda/envs/ccallahan/lib/python3.7/site-packages/xarray/coding/times.py:427: SerializationWarning: Unable to decode time axis into full numpy.datetime64 objects, continuing using cftime.datetime objects instead, reason: dates out of range\n",
      "  dtype = _decode_cf_datetime_dtype(data, units, calendar, self.use_cftime)\n",
      "/dartfs-hpc/rc/home/y/f003k8y/.conda/envs/ccallahan/lib/python3.7/site-packages/xarray/coding/times.py:427: SerializationWarning: Unable to decode time axis into full numpy.datetime64 objects, continuing using cftime.datetime objects instead, reason: dates out of range\n",
      "  dtype = _decode_cf_datetime_dtype(data, units, calendar, self.use_cftime)\n",
      "/dartfs-hpc/rc/home/y/f003k8y/.conda/envs/ccallahan/lib/python3.7/site-packages/numpy/core/_asarray.py:83: SerializationWarning: Unable to decode time axis into full numpy.datetime64 objects, continuing using cftime.datetime objects instead, reason: dates out of range\n",
      "  return array(a, dtype, copy=False, order=order)\n"
     ]
    },
    {
     "name": "stdout",
     "output_type": "stream",
     "text": [
      "../Data/Pacific_Profiles/pacific_lon_profile_CNRMCM61_abrupt4x.nc\n",
      "../Data/Pacific_Profiles/pacific_lon_profile_CNRMCM61_control.nc\n",
      "GFDLCM3_1pct2x\n"
     ]
    },
    {
     "name": "stderr",
     "output_type": "stream",
     "text": [
      "/dartfs-hpc/rc/home/y/f003k8y/.conda/envs/ccallahan/lib/python3.7/site-packages/xarray/coding/times.py:427: SerializationWarning: Unable to decode time axis into full numpy.datetime64 objects, continuing using cftime.datetime objects instead, reason: dates out of range\n",
      "  dtype = _decode_cf_datetime_dtype(data, units, calendar, self.use_cftime)\n"
     ]
    },
    {
     "name": "stdout",
     "output_type": "stream",
     "text": [
      "../Data/Pacific_Profiles/pacific_lon_profile_GFDLCM3_1pct2x.nc\n",
      "../Data/Pacific_Profiles/pacific_lon_profile_GFDLCM3_control.nc\n",
      "GFDLESM2M_1pct2x\n",
      "../Data/Pacific_Profiles/pacific_lon_profile_GFDLESM2M_1pct2x.nc\n",
      "../Data/Pacific_Profiles/pacific_lon_profile_GFDLESM2M_control.nc\n",
      "GISSE2R_1pct4x\n",
      "../Data/Pacific_Profiles/pacific_lon_profile_GISSE2R_1pct4x.nc\n",
      "../Data/Pacific_Profiles/pacific_lon_profile_GISSE2R_control.nc\n",
      "GISSE2R_abrupt4x\n",
      "../Data/Pacific_Profiles/pacific_lon_profile_GISSE2R_abrupt4x.nc\n",
      "../Data/Pacific_Profiles/pacific_lon_profile_GISSE2R_control.nc\n",
      "HadCM3L_abrupt2x\n",
      "../Data/Pacific_Profiles/pacific_lon_profile_HadCM3L_abrupt2x.nc\n",
      "../Data/Pacific_Profiles/pacific_lon_profile_HadCM3L_control.nc\n",
      "HadCM3L_abrupt4x\n",
      "../Data/Pacific_Profiles/pacific_lon_profile_HadCM3L_abrupt4x.nc\n",
      "../Data/Pacific_Profiles/pacific_lon_profile_HadCM3L_control.nc\n",
      "HadCM3L_abrupt6x\n",
      "../Data/Pacific_Profiles/pacific_lon_profile_HadCM3L_abrupt6x.nc\n",
      "../Data/Pacific_Profiles/pacific_lon_profile_HadCM3L_control.nc\n",
      "HadCM3L_abrupt8x\n",
      "../Data/Pacific_Profiles/pacific_lon_profile_HadCM3L_abrupt8x.nc\n",
      "../Data/Pacific_Profiles/pacific_lon_profile_HadCM3L_control.nc\n",
      "IPSLCM5A_abrupt4x\n",
      "../Data/Pacific_Profiles/pacific_lon_profile_IPSLCM5A_abrupt4x.nc\n",
      "../Data/Pacific_Profiles/pacific_lon_profile_IPSLCM5A_control.nc\n",
      "MIROC32_1pct2x\n",
      "../Data/Pacific_Profiles/pacific_lon_profile_MIROC32_1pct2x.nc\n",
      "../Data/Pacific_Profiles/pacific_lon_profile_MIROC32_control.nc\n",
      "MIROC32_1pct4x\n",
      "../Data/Pacific_Profiles/pacific_lon_profile_MIROC32_1pct4x.nc\n",
      "../Data/Pacific_Profiles/pacific_lon_profile_MIROC32_control.nc\n",
      "MPIESM12_abrupt2x\n",
      "../Data/Pacific_Profiles/pacific_lon_profile_MPIESM12_abrupt2x.nc\n",
      "../Data/Pacific_Profiles/pacific_lon_profile_MPIESM12_control.nc\n",
      "MPIESM12_abrupt4x\n",
      "../Data/Pacific_Profiles/pacific_lon_profile_MPIESM12_abrupt4x.nc\n",
      "../Data/Pacific_Profiles/pacific_lon_profile_MPIESM12_control.nc\n",
      "MPIESM12_abrupt8x\n",
      "../Data/Pacific_Profiles/pacific_lon_profile_MPIESM12_abrupt8x.nc\n",
      "../Data/Pacific_Profiles/pacific_lon_profile_MPIESM12_control.nc\n"
     ]
    }
   ],
   "source": [
    "for i in np.arange(0,len(modelnames_file),1):\n",
    "    \n",
    "    model, exp = modelnames_file[i].split(\"_\")\n",
    "    print(modelnames_file[i])\n",
    "    \n",
    "    fname_exp_start = \"tas_mon_\"+modelnames_file[i]\n",
    "    fname_control_start = \"tas_mon_\"+model+\"_control\"\n",
    "    \n",
    "    fname_exp = [f for f in os.listdir(loc_tas) if f.startswith(fname_exp_start)][0]\n",
    "    fname_control = [f for f in os.listdir(loc_tas) if f.startswith(fname_control_start)][0]\n",
    "    \n",
    "    n1, n2, n3, n4, year_exp_nc = fname_exp.split(\"_\")\n",
    "    n1, n2, n3, n4, year_control_nc = fname_control.split(\"_\")\n",
    "    year_exp, nc = year_exp_nc.split(\".\")\n",
    "    year_control, nc = year_control_nc.split(\".\")\n",
    "    \n",
    "    # In this script we're repeatedly doing the calculations for the control, for each experiment\n",
    "    # That is, this loop for CESM abrupt2x and abrupt4x does the exact same calculation on the\n",
    "    # CESM control and re-writes the file\n",
    "    # but I'm too lazy to be more precise about it\n",
    "    \n",
    "    model_decode_times_list = [\"MIROC32\",\"MPIESM12\"]\n",
    "    \n",
    "    if model in model_decode_times_list:\n",
    "        tas_exp_global = xr.DataArray(xr.open_dataset(loc_tas+fname_exp,decode_times=False).data_vars[\"tas\"]) \n",
    "        tas_control_global = xr.DataArray(xr.open_dataset(loc_tas+fname_control,decode_times=False).data_vars[\"tas\"]) \n",
    "    else:\n",
    "        tas_exp_global = xr.DataArray(xr.open_dataset(loc_tas+fname_exp).data_vars[\"tas\"])\n",
    "        tas_control_global = xr.DataArray(xr.open_dataset(loc_tas+fname_control).data_vars[\"tas\"])\n",
    "            \n",
    "    if model == \"HadCM3L\":\n",
    "        lat_tas = tas_exp_global.coords[\"latitude_1\"]\n",
    "        lon_tas = tas_exp_global.coords[\"longitude_1\"]\n",
    "    else:\n",
    "        lat_tas = tas_exp_global.coords[\"lat\"]\n",
    "        lon_tas = tas_exp_global.coords[\"lon\"]\n",
    "            \n",
    "    if lat_tas[0] > lat_tas[len(lat_tas.values)-1]:\n",
    "        profile_exp_raw = tas_exp_global.loc[:,lat_max:lat_min,lon_min:lon_max].mean(axis=1)\n",
    "        profile_control_raw = tas_control_global.loc[:,lat_max:lat_min,lon_min:lon_max].mean(axis=1)\n",
    "    else:\n",
    "        profile_exp_raw = tas_exp_global.loc[:,lat_min:lat_max,lon_min:lon_max].mean(axis=1)\n",
    "        profile_control_raw = tas_control_global.loc[:,lat_min:lat_max,lon_min:lon_max].mean(axis=1)\n",
    "    lon_profile = lon_tas.loc[lon_min:lon_max]\n",
    "    \n",
    "    #index_exp_raw = tas_exp.mean(dim=[\"lat\",\"lon\"])\n",
    "    #index_control_raw = tas_exp.mean(dim=[\"lat\",\"lon\"])\n",
    "        \n",
    "    # attach time arrays to allow us to calculate anomalies\n",
    "    n_months_c = profile_control_raw.shape[0]\n",
    "    n_months_f = profile_exp_raw.shape[0]\n",
    "    time_exp = xr.cftime_range(start='0001', periods=n_months_f, freq='M')\n",
    "    time_control = xr.cftime_range(start='0001', periods=n_months_c, freq='M')\n",
    "            \n",
    "    profile_exp_time = xr.DataArray(profile_exp_raw.values,coords=[time_exp,lon_profile],dims=[\"time\",\"lon\"])\n",
    "    profile_control_time = xr.DataArray(profile_control_raw.values,coords=[time_control,lon_profile],dims=[\"time\",\"lon\"])\n",
    "    \n",
    "    # Write out data\n",
    "    profile_exp_time.name = \"profile\"\n",
    "    profile_exp_time.attrs[\"creation_date\"] = str(datetime.datetime.now())\n",
    "    profile_exp_time.attrs[\"created_by\"] = \"Christopher Callahan, Christopher.W.Callahan.GR@dartmouth.edu\"\n",
    "    profile_exp_time.attrs[\"data_description\"] = \"longitudinal temperature profile, \"+str(lat_min)+\"-\"+str(lat_max)+\", \"+str(lon_min)+\"-\"+str(lon_max)\n",
    "    profile_exp_time.attrs[\"created_from\"] = \"Calculate_Pacific_Profiles.ipynb\"\n",
    "        \n",
    "    fname_out_exp = loc_out+\"pacific_lon_profile_\"+model+\"_\"+exp+\".nc\"\n",
    "    profile_exp_time.to_netcdf(fname_out_exp,mode=\"w\")\n",
    "    print(fname_out_exp)\n",
    "        \n",
    "        \n",
    "    # write out raw index from control\n",
    "    profile_control_time.name = \"profile\"\n",
    "    profile_control_time.attrs[\"creation_date\"] = str(datetime.datetime.now())\n",
    "    profile_control_time.attrs[\"created_by\"] = \"Christopher Callahan, Christopher.W.Callahan.GR@dartmouth.edu\"\n",
    "    profile_control_time.attrs[\"data_description\"] = \"longitudinal temperature profile, \"+str(lat_min)+\"-\"+str(lat_max)+\", \"+str(lon_min)+\"-\"+str(lon_max)\n",
    "    profile_control_time.attrs[\"created_from\"] = \"Calculate_Pacific_Profiles.ipynb\"\n",
    "        \n",
    "    fname_out_control = loc_out+\"pacific_lon_profile_\"+model+\"_control.nc\"\n",
    "    profile_control_time.to_netcdf(fname_out_control,mode=\"w\")\n",
    "    print(fname_out_control)"
   ]
  }
 ],
 "metadata": {
  "kernelspec": {
   "display_name": "Python ccallahan",
   "language": "python",
   "name": "ccallahan"
  },
  "language_info": {
   "codemirror_mode": {
    "name": "ipython",
    "version": 3
   },
   "file_extension": ".py",
   "mimetype": "text/x-python",
   "name": "python",
   "nbconvert_exporter": "python",
   "pygments_lexer": "ipython3",
   "version": "3.7.3"
  }
 },
 "nbformat": 4,
 "nbformat_minor": 2
}
